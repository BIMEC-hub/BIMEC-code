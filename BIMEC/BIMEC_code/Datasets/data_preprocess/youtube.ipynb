{
 "cells": [
  {
   "cell_type": "code",
   "id": "initial_id",
   "metadata": {
    "collapsed": true,
    "ExecuteTime": {
     "end_time": "2025-09-03T09:19:15.241413Z",
     "start_time": "2025-09-03T09:19:15.234883Z"
    }
   },
   "source": [
    "import gzip\n",
    "\n",
    "graph_file = \"../../YouTube_with_communities/com-youtube.ungraph.txt.gz\"\n",
    "community_file = \"../../YouTube_with_communities/com-youtube.top5000.cmty.txt.gz\"\n",
    "output_file = \"youtube_top5000_subgraph.txt\"\n",
    "comm_output_file = \"communities_youtube_filtered.txt\""
   ],
   "outputs": [],
   "execution_count": 6
  },
  {
   "metadata": {
    "ExecuteTime": {
     "end_time": "2025-09-03T09:19:48.855955Z",
     "start_time": "2025-09-03T09:19:46.606884Z"
    }
   },
   "cell_type": "code",
   "source": [
    "# Filter communities with >= 5 members and collect node sets\n",
    "print(\"Loading top5000 communities (filter size < 5)...\")\n",
    "top_nodes = set()\n",
    "valid_comm_count = 0\n",
    "filtered_communities = []  \n",
    "\n",
    "with gzip.open(community_file, \"rt\", encoding=\"utf-8\") as f:\n",
    "    for line in f:\n",
    "        parts = line.strip().split()\n",
    "        if len(parts) < 5:\n",
    "            continue \n",
    "        valid_comm_count += 1\n",
    "        comm_nodes = [int(node) for node in parts]\n",
    "        filtered_communities.append(comm_nodes)\n",
    "        top_nodes.update(comm_nodes)\n",
    "\n",
    "print(f\"Collected {len(top_nodes)} unique nodes from {valid_comm_count} valid communities\")\n",
    "\n",
    "print(\"Filtering edges from original graph...\")\n",
    "edges = []\n",
    "with gzip.open(graph_file, \"rt\", encoding=\"utf-8\") as f:\n",
    "    for line in f:\n",
    "        if line.startswith(\"#\"): \n",
    "            continue\n",
    "        u, v = map(int, line.strip().split())\n",
    "        if u in top_nodes and v in top_nodes:\n",
    "            edges.append((u, v))\n",
    "\n",
    "filtered_nodes = set()\n",
    "for u, v in edges:\n",
    "    filtered_nodes.add(u)\n",
    "    filtered_nodes.add(v)\n",
    "\n",
    "print(f\"Filtered graph: {len(filtered_nodes)} nodes, {len(edges)} edges\")\n",
    "\n",
    "with open(output_file, \"w\", encoding=\"utf-8\") as f:\n",
    "    for u, v in edges:\n",
    "        f.write(f\"{u}\\t{v}\\n\")\n",
    "print(f\"Subgraph saved to {output_file}\")\n",
    "\n",
    "with open(comm_output_file, \"w\", encoding=\"utf-8\") as f:\n",
    "    for comm in filtered_communities:\n",
    "        f.write(\"\\t\".join(map(str, comm)) + \"\\n\")\n",
    "print(f\"Filtered communities saved to {comm_output_file}\")"
   ],
   "id": "29a76d88208454a8",
   "outputs": [
    {
     "name": "stdout",
     "output_type": "stream",
     "text": [
      "Loading top5000 communities (filter size < 5)...\n",
      "Collected 34861 unique nodes from 2259 valid communities\n",
      "Filtering edges from original graph...\n",
      "Filtered graph: 34861 nodes, 216626 edges\n",
      "Subgraph saved to youtube_top5000_subgraph.txt\n",
      "Filtered communities saved to communities_youtube_filtered.txt\n"
     ]
    }
   ],
   "execution_count": 7
  },
  {
   "metadata": {
    "ExecuteTime": {
     "end_time": "2025-09-03T09:45:15.332996Z",
     "start_time": "2025-09-03T09:45:15.291942Z"
    }
   },
   "cell_type": "code",
   "source": [
    "\n",
    "input_comm_file = \"communities_youtube_filtered.txt\"\n",
    "output_node2comm = \"node2comm_youtube.txt\"\n",
    "\n",
    "node2comm = {}\n",
    "\n",
    "with open(input_comm_file, \"r\", encoding=\"utf-8\") as f:\n",
    "    for comm_id, line in enumerate(f):\n",
    "        nodes = line.strip().split()\n",
    "        for node in nodes:\n",
    "            node2comm[int(node)] = comm_id\n",
    "\n",
    "with open(output_node2comm, \"w\", encoding=\"utf-8\") as f:\n",
    "    for node, comm_id in node2comm.items():\n",
    "        f.write(f\"{node}\\t{comm_id}\\n\")\n",
    "\n",
    "print(f\"Converted {len(node2comm)} nodes into node-community mapping\")\n",
    "print(f\"Saved to {output_node2comm}\")\n"
   ],
   "id": "7ccbd733cd7d4dfe",
   "outputs": [
    {
     "name": "stdout",
     "output_type": "stream",
     "text": [
      "Converted 34861 nodes into node-community mapping\n",
      "Saved to node2comm_youtube.txt\n"
     ]
    }
   ],
   "execution_count": 8
  }
 ],
 "metadata": {
  "kernelspec": {
   "display_name": "Python 3",
   "language": "python",
   "name": "python3"
  },
  "language_info": {
   "codemirror_mode": {
    "name": "ipython",
    "version": 2
   },
   "file_extension": ".py",
   "mimetype": "text/x-python",
   "name": "python",
   "nbconvert_exporter": "python",
   "pygments_lexer": "ipython2",
   "version": "2.7.6"
  }
 },
 "nbformat": 4,
 "nbformat_minor": 5
}

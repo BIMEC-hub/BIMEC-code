{
 "cells": [
  {
   "cell_type": "code",
   "id": "initial_id",
   "metadata": {
    "collapsed": true,
    "ExecuteTime": {
     "end_time": "2025-09-13T13:14:42.952106Z",
     "start_time": "2025-09-13T13:14:42.784480Z"
    }
   },
   "source": [
    "import networkx as nx\n",
    "from networkx.algorithms.community.quality import modularity\n",
    "from collections import defaultdict"
   ],
   "outputs": [],
   "execution_count": 1
  },
  {
   "metadata": {
    "ExecuteTime": {
     "end_time": "2025-09-13T13:15:40.868013Z",
     "start_time": "2025-09-13T13:15:40.859301Z"
    }
   },
   "cell_type": "code",
   "source": [
    "def read_edge_list(path):\n",
    "    G = nx.Graph()\n",
    "    with open(path, 'r', encoding='utf-8') as f:\n",
    "        for line in f:\n",
    "            line = line.strip()\n",
    "            if not line or line.startswith('#'):\n",
    "                continue\n",
    "            parts = line.split()\n",
    "            if len(parts) < 2:\n",
    "                continue\n",
    "            # transfer into str\n",
    "            u, v = str(parts[0]), str(parts[1])\n",
    "            G.add_edge(u, v)\n",
    "    return G"
   ],
   "id": "33d9dc95d3b8cf64",
   "outputs": [],
   "execution_count": 2
  },
  {
   "metadata": {
    "ExecuteTime": {
     "end_time": "2025-09-13T13:15:49.419778Z",
     "start_time": "2025-09-13T13:15:49.408831Z"
    }
   },
   "cell_type": "code",
   "source": [
    "def read_communities(path):\n",
    "    node2comm = {}\n",
    "    with open(path, 'r', encoding='utf-8') as f:\n",
    "        for line in f:\n",
    "            line = line.strip()\n",
    "            if not line or line.startswith('#'):\n",
    "                continue\n",
    "            parts = line.split()\n",
    "            if len(parts) < 2:\n",
    "                continue\n",
    "            node, comm = str(parts[0]), str(parts[1])\n",
    "            node2comm[node] = comm\n",
    "    return node2comm"
   ],
   "id": "54c7acd661afe32b",
   "outputs": [],
   "execution_count": 3
  },
  {
   "metadata": {
    "ExecuteTime": {
     "end_time": "2025-09-13T13:17:31.200803Z",
     "start_time": "2025-09-13T13:17:31.190062Z"
    }
   },
   "cell_type": "code",
   "source": [
    "def node2communities_list(node2comm):\n",
    "    comm2nodes = defaultdict(list)\n",
    "    for node, comm in node2comm.items():\n",
    "        comm2nodes[comm].append(str(node))\n",
    "    communities = [set(nodes) for nodes in comm2nodes.values() if len(nodes) > 0]\n",
    "    return communities, comm2nodes\n",
    "\n",
    "def compute_modularity(edge_path, comm_path):\n",
    "    G = read_edge_list(edge_path)\n",
    "    node2comm = read_communities(comm_path)\n",
    "    communities, comm2nodes = node2communities_list(node2comm)\n",
    "\n",
    "    # 社区文件里有但图里没有的节点 -> 加为孤立点\n",
    "    missing_nodes = set(node2comm.keys()) - set(G.nodes())\n",
    "    if missing_nodes:\n",
    "        print(f\"Warning: {len(missing_nodes)} nodes appear in community file but not in edge file. Added as isolated nodes.\")\n",
    "        G.add_nodes_from(missing_nodes)\n",
    "\n",
    "    # 图里有但社区文件没标注的节点 -> 当作单节点社区\n",
    "    unassigned = set(G.nodes()) - set(node2comm.keys())\n",
    "    if unassigned:\n",
    "        print(f\"Warning: {len(unassigned)} graph nodes have no community assignment. They are treated as singleton communities.\")\n",
    "        for n in unassigned:\n",
    "            communities.append({str(n)})\n",
    "\n",
    "    Q = modularity(G, communities)\n",
    "    print(\"\\nNumber of nodes in graph:\", G.number_of_nodes())\n",
    "    print(\"Number of edges in graph:\", G.number_of_edges())\n",
    "    print(\"Number of communities (after processing):\", len(communities))\n",
    "    print(\"Modularity Q = {:.6f}\".format(Q))\n",
    "    \n",
    "    return Q"
   ],
   "id": "5e092b1f3ff1d0c7",
   "outputs": [],
   "execution_count": 4
  },
  {
   "metadata": {
    "ExecuteTime": {
     "end_time": "2025-09-13T13:24:43.982589Z",
     "start_time": "2025-09-13T13:24:43.445808Z"
    }
   },
   "cell_type": "code",
   "source": [
    "if __name__ == '__main__':\n",
    "    # edge_path = 'AskUbuntu/ubuntu_graph_filtered.txt'\n",
    "    # comm_path = 'AskUbuntu/communities_ubuntu_louvain_filtered.txt'\n",
    "    # edge_path = 'Twitter-19/twitter_covid19_graph_filtered.txt'\n",
    "    # comm_path = 'Twitter-19/communities_covid19_louvain_filtered.txt'\n",
    "    edge_path = 'YouTube/youtube_top5000_subgraph.txt'\n",
    "    comm_path = 'YouTube/node2comm_youtube.txt'\n",
    "    compute_modularity(edge_path, comm_path)"
   ],
   "id": "ff979b2b9e734158",
   "outputs": [
    {
     "name": "stdout",
     "output_type": "stream",
     "text": [
      "\n",
      "Number of nodes in graph: 34861\n",
      "Number of edges in graph: 216626\n",
      "Number of communities (after processing): 2222\n",
      "Modularity Q = 0.133806\n",
      "\n",
      "Report saved to: modularity_report_ubuntu.txt\n"
     ]
    }
   ],
   "execution_count": 8
  }
 ],
 "metadata": {
  "kernelspec": {
   "display_name": "Python 3",
   "language": "python",
   "name": "python3"
  },
  "language_info": {
   "codemirror_mode": {
    "name": "ipython",
    "version": 2
   },
   "file_extension": ".py",
   "mimetype": "text/x-python",
   "name": "python",
   "nbconvert_exporter": "python",
   "pygments_lexer": "ipython2",
   "version": "2.7.6"
  }
 },
 "nbformat": 4,
 "nbformat_minor": 5
}
